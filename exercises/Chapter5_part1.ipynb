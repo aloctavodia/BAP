{
 "cells": [
  {
   "cell_type": "markdown",
   "metadata": {},
   "source": [
    "# Chapter 2 Exercises"
   ]
  },
  {
   "cell_type": "code",
   "execution_count": 1,
   "metadata": {},
   "outputs": [
    {
     "name": "stderr",
     "output_type": "stream",
     "text": [
      "WARNING (theano.configdefaults): install mkl with `conda install mkl-service`: No module named 'mkl'\n"
     ]
    }
   ],
   "source": [
    "import matplotlib.pyplot as plt\n",
    "import numpy as np\n",
    "import pandas as pd\n",
    "from scipy import stats\n",
    "import arviz as az\n",
    "import pymc3 as pm\n",
    "np.random.seed(123)"
   ]
  },
  {
   "cell_type": "markdown",
   "metadata": {},
   "source": [
    "# Question 1\n",
    "***"
   ]
  },
  {
   "cell_type": "code",
   "execution_count": 3,
   "metadata": {},
   "outputs": [
    {
     "data": {
      "image/png": "[encoded data removed]",
      "text/plain": [
       "<Figure size 432x288 with 1 Axes>"
      ]
     },
     "metadata": {
      "needs_background": "light"
     },
     "output_type": "display_data"
    }
   ],
   "source": [
    "dummy_data = np.loadtxt('../code/data/dummy.csv')\n",
    "x_1 = dummy_data[:, 0]\n",
    "y_1 = dummy_data[:, 1]\n",
    "\n",
    "order = 5\n",
    "x_1p = np.vstack([x_1**i for i in range(1, order+1)])\n",
    "x_1s = (x_1p - x_1p.mean(axis=1, keepdims=True)) / \\\n",
    "    x_1p.std(axis=1, keepdims=True)\n",
    "y_1s = (y_1 - y_1.mean()) / y_1.std()\n",
    "plt.scatter(x_1s[0], y_1s)\n",
    "plt.xlabel('x')\n",
    "plt.ylabel('y')"
   ]
  },
  {
   "cell_type": "code",
   "execution_count": 12,
   "metadata": {},
   "outputs": [
    {
     "name": "stderr",
     "output_type": "stream",
     "text": [
      "Auto-assigning NUTS sampler...\n",
      "Initializing NUTS using jitter+adapt_diag...\n",
      "Multiprocess sampling (2 chains in 2 jobs)\n",
      "NUTS: [ϵ, β, α]\n",
      "Sampling 2 chains: 100%|██████████| 5000/5000 [00:36<00:00, 136.64draws/s]\n",
      "There were 2 divergences after tuning. Increase `target_accept` or reparameterize.\n",
      "Auto-assigning NUTS sampler...\n",
      "Initializing NUTS using jitter+adapt_diag...\n",
      "Multiprocess sampling (2 chains in 2 jobs)\n",
      "NUTS: [ϵ, β, α]\n",
      "Sampling 2 chains: 100%|██████████| 5000/5000 [02:18<00:00, 36.10draws/s]\n",
      "There were 13 divergences after tuning. Increase `target_accept` or reparameterize.\n",
      "There were 4 divergences after tuning. Increase `target_accept` or reparameterize.\n",
      "Auto-assigning NUTS sampler...\n",
      "Initializing NUTS using jitter+adapt_diag...\n",
      "Multiprocess sampling (2 chains in 2 jobs)\n",
      "NUTS: [ϵ, β, α]\n",
      "Sampling 2 chains: 100%|██████████| 5000/5000 [00:07<00:00, 625.24draws/s]\n"
     ]
    }
   ],
   "source": [
    "trace_1 = []\n",
    "for sd in [1, 100, np.array([10, 0.1, 0.1, 0.1, 0.1])]:\n",
    "    with pm.Model() as model_p:\n",
    "        α = pm.Normal('α', mu=0, sd=1)\n",
    "        β = pm.Normal('β', mu=0, sd=sd, shape=order)\n",
    "        ϵ = pm.HalfNormal('ϵ', 5)\n",
    "\n",
    "        μ = α + pm.math.dot(β, x_1s)\n",
    "\n",
    "        y_pred = pm.Normal('y_pred', mu=μ, sd=ϵ, observed=y_1s)\n",
    "\n",
    "        trace_p = pm.sample(2000)\n",
    "        trace_1.append([sd, trace_p])"
   ]
  },
  {
   "cell_type": "code",
   "execution_count": 23,
   "metadata": {},
   "outputs": [
    {
     "data": {
      "text/plain": [
       "<matplotlib.legend.Legend at 0x1c2aad0cc0>"
      ]
     },
     "execution_count": 23,
     "metadata": {},
     "output_type": "execute_result"
    },
    {
     "data": {
      "image/png": "[encoded data removed]",
      "text/plain": [
       "<Figure size 432x288 with 1 Axes>"
      ]
     },
     "metadata": {
      "needs_background": "light"
     },
     "output_type": "display_data"
    }
   ],
   "source": [
    "x_new = np.linspace(x_1s[0].min(), x_1s[0].max(), 100)\n",
    "\n",
    "α_p_post = trace_p['α'].mean()\n",
    "β_p_post = trace_p['β'].mean(axis=0)\n",
    "idx = np.argsort(x_1s[0])\n",
    "y_p_post = α_p_post + np.dot(β_p_post, x_1s)\n",
    "\n",
    "for i, (sd, trace) in enumerate(trace_1[:3]):\n",
    "    plt.plot(x_1s[0][idx], y_p_post[idx], f'C{i}', label=f'model order {order} sd-{sd}', alpha=.5)\n",
    "\n",
    "    α_p_post = trace_p['α'].mean()\n",
    "    β_p_post = trace_p['β'].mean(axis=0)\n",
    "    x_new_p = np.vstack([x_new**i for i in range(1, order+1)])\n",
    "    y_p_post = α_p_post + np.dot(β_p_post, x_new_p) \n",
    "\n",
    "plt.scatter(x_1s[0], y_1s, c='C0', marker='.')\n",
    "plt.legend()"
   ]
  },
  {
   "cell_type": "markdown",
   "metadata": {},
   "source": [
    "Question 1:\n",
    "Why does sd 100 fail to converge in such a weird way? In the third case which coefficient is the one iwth the higher standard deviation on the prior? Why do both priors match the same line?"
   ]
  },
  {
   "cell_type": "markdown",
   "metadata": {},
   "source": []
  }
 ],
 "metadata": {
  "kernelspec": {
   "display_name": "Python 3",
   "language": "python",
   "name": "python3"
  },
  "language_info": {
   "codemirror_mode": {
    "name": "ipython",
    "version": 3
   },
   "file_extension": ".py",
   "mimetype": "text/x-python",
   "name": "python",
   "nbconvert_exporter": "python",
   "pygments_lexer": "ipython3",
   "version": "3.6.8"
  }
 },
 "nbformat": 4,
 "nbformat_minor": 2
}

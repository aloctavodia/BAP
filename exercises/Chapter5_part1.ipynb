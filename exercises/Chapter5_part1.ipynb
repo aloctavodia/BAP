{
 "cells": [
  {
   "cell_type": "markdown",
   "metadata": {},
   "source": [
    "# Chapter 2 Exercises"
   ]
  },
  {
   "cell_type": "code",
   "execution_count": 1,
   "metadata": {},
   "outputs": [
    {
     "name": "stderr",
     "output_type": "stream",
     "text": [
      "WARNING (theano.configdefaults): install mkl with `conda install mkl-service`: No module named 'mkl'\n"
     ]
    }
   ],
   "source": [
    "import matplotlib.pyplot as plt\n",
    "import numpy as np\n",
    "import pandas as pd\n",
    "from scipy import stats\n",
    "import arviz as az\n",
    "import pymc3 as pm\n",
    "np.random.seed(123)"
   ]
  },
  {
   "cell_type": "markdown",
   "metadata": {},
   "source": [
    "# Question 1\n",
    "***"
   ]
  },
  {
   "cell_type": "code",
   "execution_count": 2,
   "metadata": {},
   "outputs": [
    {
     "data": {
      "text/plain": [
       "Text(0, 0.5, 'y')"
      ]
     },
     "execution_count": 2,
     "metadata": {},
     "output_type": "execute_result"
    },
    {
     "data": {
      "image/png": "[encoded data removed]",
      "text/plain": [
       "<Figure size 432x288 with 1 Axes>"
      ]
     },
     "metadata": {
      "needs_background": "light"
     },
     "output_type": "display_data"
    }
   ],
   "source": [
    "dummy_data = np.loadtxt('../code/data/dummy.csv')\n",
    "x_1 = dummy_data[:, 0]\n",
    "y_1 = dummy_data[:, 1]\n",
    "\n",
    "# Set order of polynomial fit for Question 1\n",
    "order_1 = 5\n",
    "x_1p = np.vstack([x_1**i for i in range(1, order_1+1)])\n",
    "x_1s = (x_1p - x_1p.mean(axis=1, keepdims=True)) / \\\n",
    "    x_1p.std(axis=1, keepdims=True)\n",
    "y_1s = (y_1 - y_1.mean()) / y_1.std()\n",
    "plt.scatter(x_1s[0], y_1s)\n",
    "plt.xlabel('x')\n",
    "plt.ylabel('y')"
   ]
  },
  {
   "cell_type": "code",
   "execution_count": 3,
   "metadata": {},
   "outputs": [
    {
     "name": "stderr",
     "output_type": "stream",
     "text": [
      "Auto-assigning NUTS sampler...\n",
      "Initializing NUTS using jitter+adapt_diag...\n",
      "Multiprocess sampling (2 chains in 2 jobs)\n",
      "NUTS: [ϵ, β, α]\n",
      "Sampling 2 chains: 100%|██████████| 5000/5000 [00:32<00:00, 154.94draws/s]\n",
      "There was 1 divergence after tuning. Increase `target_accept` or reparameterize.\n",
      "Auto-assigning NUTS sampler...\n",
      "Initializing NUTS using jitter+adapt_diag...\n",
      "Multiprocess sampling (2 chains in 2 jobs)\n",
      "NUTS: [ϵ, β, α]\n",
      "Sampling 2 chains: 100%|██████████| 5000/5000 [02:05<00:00, 39.74draws/s]\n",
      "There were 5 divergences after tuning. Increase `target_accept` or reparameterize.\n",
      "Auto-assigning NUTS sampler...\n",
      "Initializing NUTS using jitter+adapt_diag...\n",
      "Multiprocess sampling (2 chains in 2 jobs)\n",
      "NUTS: [ϵ, β, α]\n",
      "Sampling 2 chains: 100%|██████████| 5000/5000 [00:07<00:00, 641.02draws/s]\n",
      "The acceptance probability does not match the target. It is 0.8850791171163658, but should be close to 0.8. Try to increase the number of tuning steps.\n"
     ]
    }
   ],
   "source": [
    "trace_1 = []\n",
    "for sd in [1, 100, np.array([10, 0.1, 0.1, 0.1, 0.1])]:\n",
    "    with pm.Model() as model_p:\n",
    "        α = pm.Normal('α', mu=0, sd=1)\n",
    "        β = pm.Normal('β', mu=0, sd=sd, shape=order_1)\n",
    "        ϵ = pm.HalfNormal('ϵ', 5)\n",
    "\n",
    "        μ = α + pm.math.dot(β, x_1s)\n",
    "\n",
    "        y_pred = pm.Normal('y_pred', mu=μ, sd=ϵ, observed=y_1s)\n",
    "\n",
    "        trace_p = pm.sample(2000)\n",
    "        trace_1.append([sd, trace_p])"
   ]
  },
  {
   "cell_type": "code",
   "execution_count": 4,
   "metadata": {},
   "outputs": [
    {
     "data": {
      "text/plain": [
       "<matplotlib.legend.Legend at 0x1c221b6da0>"
      ]
     },
     "execution_count": 4,
     "metadata": {},
     "output_type": "execute_result"
    },
    {
     "data": {
      "image/png": "[encoded data removed]",
      "text/plain": [
       "<Figure size 432x288 with 1 Axes>"
      ]
     },
     "metadata": {
      "needs_background": "light"
     },
     "output_type": "display_data"
    }
   ],
   "source": [
    "x_new = np.linspace(x_1s[0].min(), x_1s[0].max(), 100)\n",
    "\n",
    "for i, (sd, trace) in enumerate(trace_1[:3]):\n",
    "\n",
    "    α_p_post = trace['α'].mean()\n",
    "    β_p_post = trace['β'].mean(axis=0)\n",
    "    x_new_p = np.vstack([x_new**i for i in range(1, order_1+1)])\n",
    "    \n",
    "    y_p_post = α_p_post + np.dot(β_p_post, x_new_p) \n",
    "    plt.plot(x_new_p[0], y_p_post, f'C{i}', label=f'model order {order_1} sd-{sd}', alpha=.5)\n",
    "\n",
    "plt.scatter(x_1s[0], y_1s, c='C0', marker='.')\n",
    "plt.legend()"
   ]
  },
  {
   "cell_type": "markdown",
   "metadata": {},
   "source": [
    "## Questions for Osvaldo:\n",
    "Are these plots right? At a high level seems to make sense that the very restrice SD \"Green line\" only fits intercept and nothing else, and that the widest SD has the largest slope because it has the largest coefficients. But could use your double check"
   ]
  },
  {
   "cell_type": "markdown",
   "metadata": {},
   "source": [
    "# Question 2"
   ]
  },
  {
   "cell_type": "markdown",
   "metadata": {},
   "source": [
    "How do we increase dummy data to 500 points as that data is provided in a csv and not generated?"
   ]
  },
  {
   "cell_type": "markdown",
   "metadata": {},
   "source": [
    "# Question 3\n"
   ]
  },
  {
   "cell_type": "code",
   "execution_count": 5,
   "metadata": {},
   "outputs": [
    {
     "name": "stderr",
     "output_type": "stream",
     "text": [
      "Auto-assigning NUTS sampler...\n",
      "Initializing NUTS using jitter+adapt_diag...\n",
      "Multiprocess sampling (2 chains in 2 jobs)\n",
      "NUTS: [ϵ, β, α]\n",
      "Sampling 2 chains: 100%|██████████| 5000/5000 [00:04<00:00, 1047.71draws/s]\n",
      "Auto-assigning NUTS sampler...\n",
      "Initializing NUTS using jitter+adapt_diag...\n",
      "Multiprocess sampling (2 chains in 2 jobs)\n",
      "NUTS: [ϵ, β, α]\n",
      "Sampling 2 chains: 100%|██████████| 5000/5000 [00:05<00:00, 857.60draws/s]\n",
      "The acceptance probability does not match the target. It is 0.8905785745658906, but should be close to 0.8. Try to increase the number of tuning steps.\n",
      "Auto-assigning NUTS sampler...\n",
      "Initializing NUTS using jitter+adapt_diag...\n",
      "Multiprocess sampling (2 chains in 2 jobs)\n",
      "NUTS: [ϵ, β, α]\n",
      "Sampling 2 chains: 100%|██████████| 5000/5000 [00:11<00:00, 426.23draws/s]\n"
     ]
    }
   ],
   "source": [
    "dummy_data = np.loadtxt('../code/data/dummy.csv')\n",
    "x_1 = dummy_data[:, 0]\n",
    "y_1 = dummy_data[:, 1]\n",
    "y_1s = (y_1 - y_1.mean()) / y_1.std()\n",
    "\n",
    "traces_3 = []\n",
    "for order_3 in [1, 2, 3]:\n",
    "    x_1p = np.vstack([x_1**i for i in range(1, order_3+1)])\n",
    "    x_1s = (x_1p - x_1p.mean(axis=1, keepdims=True)) / \\\n",
    "        x_1p.std(axis=1, keepdims=True)\n",
    "    \n",
    "    with pm.Model() as model_p:\n",
    "        α = pm.Normal('α', mu=0, sd=1)\n",
    "        β = pm.Normal('β', mu=0, sd=1, shape=order_3)\n",
    "        ϵ = pm.HalfNormal('ϵ', 5)\n",
    "\n",
    "        μ = α + pm.math.dot(β, x_1s)\n",
    "        y_pred = pm.Normal('y_pred', mu=μ, sd=ϵ, observed=y_1s)\n",
    "\n",
    "        trace_3 = pm.sample(2000)\n",
    "        traces_3.append([order_3, trace_3])\n"
   ]
  },
  {
   "cell_type": "code",
   "execution_count": 6,
   "metadata": {},
   "outputs": [
    {
     "data": {
      "text/plain": [
       "<matplotlib.legend.Legend at 0x1c2228c320>"
      ]
     },
     "execution_count": 6,
     "metadata": {},
     "output_type": "execute_result"
    },
    {
     "data": {
      "image/png": "[encoded data removed]",
      "text/plain": [
       "<Figure size 432x288 with 1 Axes>"
      ]
     },
     "metadata": {
      "needs_background": "light"
     },
     "output_type": "display_data"
    }
   ],
   "source": [
    "x_new = np.linspace(x_1s[0].min(), x_1s[0].max(), 100)\n",
    "\n",
    "for order_3, trace in traces_3:\n",
    "    α_p_post = trace['α'].mean()\n",
    "    β_p_post = trace['β'].mean(axis=0)\n",
    "\n",
    "    x_new_order = np.vstack([x_new**i for i in range(1, order_3+1)])\n",
    "\n",
    "    y_post = α_p_post + np.dot(β_p_post, x_new_order) \n",
    "    plt.plot(x_new, y_post, f'C{order_3}', label=f'model order {order_3}', alpha=.5)\n",
    "\n",
    "plt.scatter(x_1s[0], y_1s, c='C0', marker='.')\n",
    "plt.legend()"
   ]
  },
  {
   "cell_type": "code",
   "execution_count": 7,
   "metadata": {},
   "outputs": [
    {
     "data": {
      "text/html": [
       "<div>\n",
       "<style scoped>\n",
       "    .dataframe tbody tr th:only-of-type {\n",
       "        vertical-align: middle;\n",
       "    }\n",
       "\n",
       "    .dataframe tbody tr th {\n",
       "        vertical-align: top;\n",
       "    }\n",
       "\n",
       "    .dataframe thead th {\n",
       "        text-align: right;\n",
       "    }\n",
       "</style>\n",
       "<table border=\"1\" class=\"dataframe\">\n",
       "  <thead>\n",
       "    <tr style=\"text-align: right;\">\n",
       "      <th></th>\n",
       "      <th>waic</th>\n",
       "      <th>pwaic</th>\n",
       "      <th>dwaic</th>\n",
       "      <th>weight</th>\n",
       "      <th>se</th>\n",
       "      <th>dse</th>\n",
       "      <th>warning</th>\n",
       "    </tr>\n",
       "  </thead>\n",
       "  <tbody>\n",
       "    <tr>\n",
       "      <th>Model order 2</th>\n",
       "      <td>9.04674</td>\n",
       "      <td>2.59952</td>\n",
       "      <td>0</td>\n",
       "      <td>1</td>\n",
       "      <td>4.80083</td>\n",
       "      <td>0</td>\n",
       "      <td>0</td>\n",
       "    </tr>\n",
       "    <tr>\n",
       "      <th>Model order 3</th>\n",
       "      <td>10.5058</td>\n",
       "      <td>3.10877</td>\n",
       "      <td>1.45908</td>\n",
       "      <td>1.83187e-15</td>\n",
       "      <td>4.72732</td>\n",
       "      <td>0.959315</td>\n",
       "      <td>0</td>\n",
       "    </tr>\n",
       "    <tr>\n",
       "      <th>Model order 1</th>\n",
       "      <td>28.4956</td>\n",
       "      <td>2.35617</td>\n",
       "      <td>19.4489</td>\n",
       "      <td>8.88178e-16</td>\n",
       "      <td>5.32558</td>\n",
       "      <td>5.11809</td>\n",
       "      <td>0</td>\n",
       "    </tr>\n",
       "  </tbody>\n",
       "</table>\n",
       "</div>"
      ],
      "text/plain": [
       "                  waic    pwaic    dwaic       weight       se       dse  \\\n",
       "Model order 2  9.04674  2.59952        0            1  4.80083         0   \n",
       "Model order 3  10.5058  3.10877  1.45908  1.83187e-15  4.72732  0.959315   \n",
       "Model order 1  28.4956  2.35617  19.4489  8.88178e-16  5.32558   5.11809   \n",
       "\n",
       "              warning  \n",
       "Model order 2       0  \n",
       "Model order 3       0  \n",
       "Model order 1       0  "
      ]
     },
     "execution_count": 7,
     "metadata": {},
     "output_type": "execute_result"
    }
   ],
   "source": [
    "traces_d = {f\"Model order {order}\":trace for order, trace in traces_3}\n",
    "az.compare(traces_d)"
   ]
  },
  {
   "cell_type": "markdown",
   "metadata": {},
   "source": [
    "## Question for Osvaldo:\n",
    "I don't get why order 2 model has lowest WAIC. It looks like the worst by far in posterior predictive check of mean values."
   ]
  },
  {
   "cell_type": "markdown",
   "metadata": {},
   "source": [
    "## Question 4"
   ]
  },
  {
   "cell_type": "markdown",
   "metadata": {},
   "source": [
    "First fit the linear and quadratic model again"
   ]
  },
  {
   "cell_type": "code",
   "execution_count": 8,
   "metadata": {},
   "outputs": [
    {
     "data": {
      "text/plain": [
       "Text(0, 0.5, 'y')"
      ]
     },
     "execution_count": 8,
     "metadata": {},
     "output_type": "execute_result"
    },
    {
     "data": {
      "image/png": "[encoded data removed]",
      "text/plain": [
       "<Figure size 432x288 with 1 Axes>"
      ]
     },
     "metadata": {
      "needs_background": "light"
     },
     "output_type": "display_data"
    }
   ],
   "source": [
    "dummy_data = np.loadtxt('../code/data/dummy.csv')\n",
    "x_1 = dummy_data[:, 0]\n",
    "y_1 = dummy_data[:, 1]\n",
    "\n",
    "# Set order of polynomial fit for Question 1\n",
    "order_1 = 5\n",
    "x_1p = np.vstack([x_1**i for i in range(1, order_1+1)])\n",
    "x_1s = (x_1p - x_1p.mean(axis=1, keepdims=True)) / \\\n",
    "    x_1p.std(axis=1, keepdims=True)\n",
    "y_1s = (y_1 - y_1.mean()) / y_1.std()\n",
    "plt.scatter(x_1s[0], y_1s)\n",
    "plt.xlabel('x')\n",
    "plt.ylabel('y')"
   ]
  },
  {
   "cell_type": "code",
   "execution_count": 9,
   "metadata": {},
   "outputs": [
    {
     "name": "stderr",
     "output_type": "stream",
     "text": [
      "Auto-assigning NUTS sampler...\n",
      "Initializing NUTS using jitter+adapt_diag...\n",
      "Multiprocess sampling (2 chains in 2 jobs)\n",
      "NUTS: [ϵ, β, α]\n",
      "Sampling 2 chains: 100%|██████████| 5000/5000 [00:04<00:00, 1204.72draws/s]\n"
     ]
    }
   ],
   "source": [
    "# Fit Linear Model\n",
    "with pm.Model() as model_l:\n",
    "    α = pm.Normal('α', mu=0, sd=1)\n",
    "    β = pm.Normal('β', mu=0, sd=10)\n",
    "    ϵ = pm.HalfNormal('ϵ', 5)\n",
    "\n",
    "    μ = α + β * x_1s[0]\n",
    "\n",
    "    y_pred = pm.Normal('y_pred', mu=μ, sd=ϵ, observed=y_1s)\n",
    "\n",
    "    trace_l = pm.sample(2000)"
   ]
  },
  {
   "cell_type": "code",
   "execution_count": 11,
   "metadata": {},
   "outputs": [
    {
     "name": "stderr",
     "output_type": "stream",
     "text": [
      "Auto-assigning NUTS sampler...\n",
      "Initializing NUTS using jitter+adapt_diag...\n",
      "Multiprocess sampling (2 chains in 2 jobs)\n",
      "NUTS: [ϵ, β, α]\n",
      "Sampling 2 chains: 100%|██████████| 5000/5000 [00:08<00:00, 599.00draws/s]\n"
     ]
    }
   ],
   "source": [
    "# Fit quadratic model\n",
    "order_4 = 2\n",
    "x_1p = np.vstack([x_1**i for i in range(1, order_4+1)])\n",
    "x_1s = (x_1p - x_1p.mean(axis=1, keepdims=True)) / \\\n",
    "    x_1p.std(axis=1, keepdims=True)\n",
    "y_1s = (y_1 - y_1.mean()) / y_1.std()\n",
    "\n",
    "with pm.Model() as model_p:\n",
    "    α = pm.Normal('α', mu=0, sd=1)\n",
    "    β = pm.Normal('β', mu=0, sd=10, shape=order_4)\n",
    "    ϵ = pm.HalfNormal('ϵ', 5)\n",
    "    μ = α + pm.math.dot(β, x_1s)\n",
    "\n",
    "    y_pred = pm.Normal('y_pred', mu=μ, sd=ϵ, observed=y_1s)\n",
    "\n",
    "    trace_p = pm.sample(2000)"
   ]
  },
  {
   "cell_type": "code",
   "execution_count": 12,
   "metadata": {},
   "outputs": [
    {
     "name": "stderr",
     "output_type": "stream",
     "text": [
      "100%|██████████| 2/2 [00:00<00:00, 27.55it/s]\n",
      "100%|██████████| 2/2 [00:00<00:00, 13.82it/s]\n"
     ]
    }
   ],
   "source": [
    "# Generate posterior predictive draws\n",
    "posterior_predictive_draws = 2\n",
    "y_l = pm.sample_posterior_predictive(trace_l, posterior_predictive_draws,\n",
    "                                     model=model_l)['y_pred']\n",
    "\n",
    "y_p = pm.sample_posterior_predictive(trace_p, posterior_predictive_draws,\n",
    "                                     model=model_p)['y_pred']"
   ]
  },
  {
   "cell_type": "code",
   "execution_count": 13,
   "metadata": {},
   "outputs": [
    {
     "data": {
      "text/plain": [
       "Text(0.5, 1.0, 'Linear Posterior Predictive Fit')"
      ]
     },
     "execution_count": 13,
     "metadata": {},
     "output_type": "execute_result"
    },
    {
     "data": {
      "image/png": "[encoded data removed]",
      "text/plain": [
       "<Figure size 432x288 with 1 Axes>"
      ]
     },
     "metadata": {
      "needs_background": "light"
     },
     "output_type": "display_data"
    }
   ],
   "source": [
    "# Plot Linear Posterior Predictive fit\n",
    "plt.scatter(x_1s[0], y_1s)\n",
    "plt.scatter(np.tile(x_1s[0], posterior_predictive_draws), y_l)\n",
    "\n",
    "plt.xlabel('x')\n",
    "plt.ylabel('y')\n",
    "plt.title('Linear Posterior Predictive Fit')"
   ]
  },
  {
   "cell_type": "code",
   "execution_count": 14,
   "metadata": {},
   "outputs": [
    {
     "data": {
      "text/plain": [
       "Text(0.5, 1.0, 'Quadratic Posterior Predictive Fit')"
      ]
     },
     "execution_count": 14,
     "metadata": {},
     "output_type": "execute_result"
    },
    {
     "data": {
      "image/png": "[encoded data removed]",
      "text/plain": [
       "<Figure size 432x288 with 1 Axes>"
      ]
     },
     "metadata": {
      "needs_background": "light"
     },
     "output_type": "display_data"
    }
   ],
   "source": [
    "# Plot Quadratic Posterior Predictive fit\n",
    "plt.scatter(x_1s[0], y_1s)\n",
    "plt.scatter(np.tile(x_1s[0], posterior_predictive_draws), y_p)\n",
    "\n",
    "plt.xlabel('x')\n",
    "plt.ylabel('y')\n",
    "plt.title('Quadratic Posterior Predictive Fit')"
   ]
  }
 ],
 "metadata": {
  "kernelspec": {
   "display_name": "Python 3",
   "language": "python",
   "name": "python3"
  },
  "language_info": {
   "codemirror_mode": {
    "name": "ipython",
    "version": 3
   },
   "file_extension": ".py",
   "mimetype": "text/x-python",
   "name": "python",
   "nbconvert_exporter": "python",
   "pygments_lexer": "ipython3",
   "version": "3.6.8"
  }
 },
 "nbformat": 4,
 "nbformat_minor": 2
}

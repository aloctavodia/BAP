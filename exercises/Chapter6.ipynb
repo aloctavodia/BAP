{
 "cells": [
  {
   "cell_type": "markdown",
   "metadata": {},
   "source": [
    "# Chapter 6"
   ]
  },
  {
   "cell_type": "code",
   "execution_count": 1,
   "metadata": {},
   "outputs": [
    {
     "name": "stderr",
     "output_type": "stream",
     "text": [
      "WARNING (theano.configdefaults): install mkl with `conda install mkl-service`: No module named 'mkl'\n"
     ]
    }
   ],
   "source": [
    "import matplotlib.pyplot as plt\n",
    "import arviz as az\n",
    "import pymc3 as pm\n",
    "import scipy.stats as stats\n",
    "import numpy as np\n",
    "import theano.tensor as tt"
   ]
  },
  {
   "cell_type": "markdown",
   "metadata": {},
   "source": [
    "## Exercise 1"
   ]
  },
  {
   "cell_type": "code",
   "execution_count": 2,
   "metadata": {},
   "outputs": [
    {
     "data": {
      "text/plain": [
       "array([10.71444254, 20.08712795, 30.2414559 ,  7.6190144 , 20.58366716])"
      ]
     },
     "execution_count": 2,
     "metadata": {},
     "output_type": "execute_result"
    }
   ],
   "source": [
    "# Fix this later\n",
    "mu = [10,20,30]\n",
    "sd = 1\n",
    "\n",
    "vals = stats.norm.rvs(loc=mu, scale=sd, size=(100,3)).flatten()\n",
    "vals[:5]"
   ]
  },
  {
   "cell_type": "markdown",
   "metadata": {},
   "source": [
    "Let's plot a kde plot to see what things look like"
   ]
  },
  {
   "cell_type": "code",
   "execution_count": 3,
   "metadata": {},
   "outputs": [
    {
     "data": {
      "text/plain": [
       "<matplotlib.axes._subplots.AxesSubplot at 0x7f7cebf79710>"
      ]
     },
     "execution_count": 3,
     "metadata": {},
     "output_type": "execute_result"
    },
    {
     "data": {
      "image/png": "[encoded data removed]",
      "text/plain": [
       "<Figure size 432x288 with 1 Axes>"
      ]
     },
     "metadata": {
      "needs_background": "light"
     },
     "output_type": "display_data"
    }
   ],
   "source": [
    "az.plot_kde(vals)"
   ]
  },
  {
   "cell_type": "markdown",
   "metadata": {},
   "source": [
    "### Fit 2, 3, and 4 component mixture models"
   ]
  },
  {
   "cell_type": "code",
   "execution_count": null,
   "metadata": {},
   "outputs": [],
   "source": [
    "clusters = [2,3,4]\n",
    "traces = {}\n",
    "for cluster in clusters:\n",
    "    with pm.Model() as two_components:\n",
    "        p = pm.Dirichlet(\"p\", a=np.ones(cluster))\n",
    "\n",
    "        # Each mean of the mixture data has its own estimate of a mean with a fixed SD in this case\n",
    "        means = pm.Normal(\"means\", mu= vals.mean(), sd=10, shape=cluster)\n",
    "        \n",
    "        # Estimate of the standard deviation of what?\n",
    "        sd = pm.HalfCauchy(\"sd\", 1)\n",
    "        y = pm.NormalMixture(\"y\", w=p, mu=means, sd=sd, observed=vals)\n",
    "        \n",
    "        trace = pm.sample(random_seed=123)\n",
    "        traces[f\"Cluster Size {cluster}\"] = az.from_pymc3(trace=trace)"
   ]
  },
  {
   "cell_type": "markdown",
   "metadata": {},
   "source": [
    "# Exercise 2"
   ]
  },
  {
   "cell_type": "code",
   "execution_count": null,
   "metadata": {},
   "outputs": [],
   "source": [
    "comparison = az.compare(traces)\n",
    "comparison"
   ]
  },
  {
   "cell_type": "code",
   "execution_count": null,
   "metadata": {},
   "outputs": [],
   "source": [
    "az.loo(traces[\"Cluster Size 2\"])"
   ]
  },
  {
   "cell_type": "code",
   "execution_count": null,
   "metadata": {},
   "outputs": [],
   "source": [
    "az.loo(traces[\"Cluster Size 3\"])"
   ]
  },
  {
   "cell_type": "code",
   "execution_count": null,
   "metadata": {},
   "outputs": [],
   "source": [
    "az.loo(traces[\"Cluster Size 4\"])"
   ]
  },
  {
   "cell_type": "code",
   "execution_count": null,
   "metadata": {},
   "outputs": [],
   "source": [
    "az.plot_compare(comparison)"
   ]
  },
  {
   "cell_type": "markdown",
   "metadata": {},
   "source": [
    "### Ask about this\n",
    "When we have four chains why does the MCMC algorithm have so much trouble converging? Is it the starting points and each chain gets stuck in one? \n",
    "\n",
    "Alternatively asked why isn't there just an indentifiability problem?"
   ]
  },
  {
   "cell_type": "code",
   "execution_count": null,
   "metadata": {},
   "outputs": [],
   "source": [
    "az.plot_trace(traces[\"Cluster Size 3\"])"
   ]
  },
  {
   "cell_type": "code",
   "execution_count": null,
   "metadata": {},
   "outputs": [],
   "source": [
    "az.plot_trace(traces[\"Cluster Size 4\"])"
   ]
  },
  {
   "cell_type": "markdown",
   "metadata": {},
   "source": [
    "## Exercise 4"
   ]
  },
  {
   "cell_type": "code",
   "execution_count": null,
   "metadata": {},
   "outputs": [],
   "source": [
    "K=10\n",
    "\n",
    "def stick_breaking(α, K):\n",
    "    β = pm.Beta('β', 1., α, shape=K)\n",
    "    w = β * pm.math.concatenate([[1.], tt.extra_ops.cumprod(1. - β)[:-1]])\n",
    "    return w"
   ]
  },
  {
   "cell_type": "code",
   "execution_count": null,
   "metadata": {},
   "outputs": [],
   "source": [
    "with pm.Model() as model:\n",
    "    α = pm.Gamma('α', 1, 1.)\n",
    "    w = pm.Deterministic('w', stick_breaking(α, K))\n",
    "    means = pm.Normal('means',\n",
    "                      mu=np.linspace(vals.min(), vals.max(), K),\n",
    "                      sd=1, shape=K)\n",
    "    \n",
    "    sd = pm.HalfNormal('sd', sd=10, shape=K)\n",
    "    obs = pm.NormalMixture('obs', w, means, sd=sd, observed=vals)\n",
    "    priors = pm.sample_prior_predictive(2000)\n",
    "    #trace = pm.sample(1000, tune=2000, nuts_kwargs={'target_accept':0.85})"
   ]
  },
  {
   "cell_type": "code",
   "execution_count": null,
   "metadata": {},
   "outputs": [],
   "source": []
  }
 ],
 "metadata": {
  "kernelspec": {
   "display_name": "Python 3",
   "language": "python",
   "name": "python3"
  },
  "language_info": {
   "codemirror_mode": {
    "name": "ipython",
    "version": 3
   },
   "file_extension": ".py",
   "mimetype": "text/x-python",
   "name": "python",
   "nbconvert_exporter": "python",
   "pygments_lexer": "ipython3",
   "version": "3.6.7"
  }
 },
 "nbformat": 4,
 "nbformat_minor": 2
}
